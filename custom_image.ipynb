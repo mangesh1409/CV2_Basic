{
 "cells": [
  {
   "cell_type": "code",
   "execution_count": 7,
   "metadata": {},
   "outputs": [],
   "source": [
    "import cv2 as cv\n",
    "import numpy as np"
   ]
  },
  {
   "cell_type": "code",
   "execution_count": 8,
   "metadata": {},
   "outputs": [],
   "source": [
    "img = np.zeros((600, 600,3))\n",
    "img=cv.rectangle(img,(100,200),(500,400),[0,255,0],5)\n",
    "img=cv.line(img,(200,200),(200,400),[0,255,0],5)\n",
    "img=cv.line(img,(150,150),(100,200),[0,255,0],5)\n",
    "img=cv.line(img,(150,150),(200,200),[0,255,0],5)\n",
    "img=cv.line(img,(450,150),(500,200),[0,255,0],5)\n",
    "img=cv.line(img,(150,150),(450,150),[0,255,0],5)\n",
    "img=cv.rectangle(img,(300,300),(400,400),[0,255,0],5)\n",
    "\n",
    "\n",
    "\n",
    "cv.imshow(\"myphoto\",img)\n",
    "cv.waitKey()   # How long photo will display\n",
    "cv.destroyAllWindows() # Use to "
   ]
  },
  {
   "cell_type": "code",
   "execution_count": null,
   "metadata": {},
   "outputs": [],
   "source": []
  },
  {
   "cell_type": "code",
   "execution_count": null,
   "metadata": {},
   "outputs": [],
   "source": []
  }
 ],
 "metadata": {
  "kernelspec": {
   "display_name": "Python 3",
   "language": "python",
   "name": "python3"
  },
  "language_info": {
   "codemirror_mode": {
    "name": "ipython",
    "version": 3
   },
   "file_extension": ".py",
   "mimetype": "text/x-python",
   "name": "python",
   "nbconvert_exporter": "python",
   "pygments_lexer": "ipython3",
   "version": "3.8.3"
  }
 },
 "nbformat": 4,
 "nbformat_minor": 4
}
